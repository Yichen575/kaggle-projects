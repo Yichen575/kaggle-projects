{
 "cells": [
  {
   "cell_type": "code",
   "execution_count": 185,
   "metadata": {},
   "outputs": [],
   "source": [
    "# import the packages we need to investigate the data\n",
    "import numpy as np\n",
    "import datetime\n",
    "import matplotlib.pyplot as plt\n",
    "import pandas as pd\n",
    "from calendar import monthrange\n",
    "import matplotlib.dates as mdates\n",
    "import scipy.stats as st\n",
    "import requests\n",
    "from meteostat import Point, Daily"
   ]
  },
  {
   "cell_type": "markdown",
   "metadata": {},
   "source": [
    "Import the data from train.csv"
   ]
  },
  {
   "cell_type": "code",
   "execution_count": 207,
   "metadata": {},
   "outputs": [
    {
     "name": "stdout",
     "output_type": "stream",
     "text": [
      "   PassengerId  Survived  Pclass  \\\n",
      "0            1         0       3   \n",
      "1            2         1       1   \n",
      "2            3         1       3   \n",
      "3            4         1       1   \n",
      "4            5         0       3   \n",
      "\n",
      "                                                Name     Sex   Age  SibSp  \\\n",
      "0                            Braund, Mr. Owen Harris    male  22.0      1   \n",
      "1  Cumings, Mrs. John Bradley (Florence Briggs Th...  female  38.0      1   \n",
      "2                             Heikkinen, Miss. Laina  female  26.0      0   \n",
      "3       Futrelle, Mrs. Jacques Heath (Lily May Peel)  female  35.0      1   \n",
      "4                           Allen, Mr. William Henry    male  35.0      0   \n",
      "\n",
      "   Parch            Ticket     Fare Cabin Embarked  \n",
      "0      0         A/5 21171   7.2500   NaN        S  \n",
      "1      0          PC 17599  71.2833   C85        C  \n",
      "2      0  STON/O2. 3101282   7.9250   NaN        S  \n",
      "3      0            113803  53.1000  C123        S  \n",
      "4      0            373450   8.0500   NaN        S  \n"
     ]
    }
   ],
   "source": [
    "# Read the CSV file into a DataFrame\n",
    "df = pd.read_csv('train.csv')\n",
    "\n",
    "print(df.head())  # Display the first few rows of the DataFrame\n",
    "\n"
   ]
  },
  {
   "cell_type": "code",
   "execution_count": 173,
   "metadata": {},
   "outputs": [
    {
     "name": "stderr",
     "output_type": "stream",
     "text": [
      "FutureWarning: Dropping of nuisance columns in DataFrame reductions (with 'numeric_only=None') is deprecated; in a future version this will raise TypeError.  Select only valid columns before calling the reduction.\n"
     ]
    },
    {
     "data": {
      "text/plain": [
       "PassengerId                            891\n",
       "Survived                                 1\n",
       "Pclass                                   3\n",
       "Name           van Melkebeke, Mr. Philemon\n",
       "Sex                                   male\n",
       "Age                                   80.0\n",
       "SibSp                                    8\n",
       "Parch                                    6\n",
       "Ticket                           WE/P 5735\n",
       "Fare                              512.3292\n",
       "dtype: object"
      ]
     },
     "execution_count": 173,
     "metadata": {},
     "output_type": "execute_result"
    }
   ],
   "source": [
    "df.max()"
   ]
  },
  {
   "cell_type": "code",
   "execution_count": 174,
   "metadata": {},
   "outputs": [
    {
     "name": "stderr",
     "output_type": "stream",
     "text": [
      "FutureWarning: Dropping of nuisance columns in DataFrame reductions (with 'numeric_only=None') is deprecated; in a future version this will raise TypeError.  Select only valid columns before calling the reduction.\n"
     ]
    },
    {
     "data": {
      "text/plain": [
       "PassengerId                      1\n",
       "Survived                         0\n",
       "Pclass                           1\n",
       "Name           Abbing, Mr. Anthony\n",
       "Sex                         female\n",
       "Age                           0.42\n",
       "SibSp                            0\n",
       "Parch                            0\n",
       "Ticket                      110152\n",
       "Fare                           0.0\n",
       "dtype: object"
      ]
     },
     "execution_count": 174,
     "metadata": {},
     "output_type": "execute_result"
    }
   ],
   "source": [
    "df.min()"
   ]
  },
  {
   "cell_type": "code",
   "execution_count": 187,
   "metadata": {},
   "outputs": [],
   "source": [
    "# separate the dataframe by the death and survival\n",
    "death_df = df[df[\"Survived\"]== 0]\n",
    "live_df = df[df[\"Survived\"]== 1]\n",
    "death_total = len(death_df)\n",
    "live_total = len(live_df)\n"
   ]
  },
  {
   "cell_type": "code",
   "execution_count": 208,
   "metadata": {},
   "outputs": [
    {
     "data": {
      "image/png": "[encoded data removed]",
      "text/plain": [
       "<Figure size 864x288 with 3 Axes>"
      ]
     },
     "metadata": {
      "needs_background": "light"
     },
     "output_type": "display_data"
    }
   ],
   "source": [
    "\n",
    "# Create a figure and subplots\n",
    "fig, axes = plt.subplots(1, 3, figsize=(12, 4))\n",
    "\n",
    "# Plot 1: Embarkation\n",
    "filtered_live_df = live_df.dropna(subset=['Embarked'])\n",
    "filtered_death_df = death_df.dropna(subset=['Embarked'])\n",
    "axes[0].hist([filtered_live_df['Embarked'], filtered_death_df['Embarked']], stacked=True, density=False, edgecolor='black')\n",
    "axes[0].set_title('Survival and death of different embarkations')\n",
    "axes[0].set_ylabel('Number')\n",
    "axes[0].set_xlabel('Embarkation')\n",
    "axes[0].legend(['Survived', 'Not Survived'])\n",
    "\n",
    "# Plot 2: Gender\n",
    "axes[1].hist([live_df['Sex'], death_df['Sex']], stacked=True, density=False, edgecolor='black')\n",
    "axes[1].set_title('Survival and death of different genders')\n",
    "axes[1].set_ylabel('Number')\n",
    "axes[1].set_xlabel('Gender')\n",
    "axes[1].legend(['Survived', 'Not Survived'])\n",
    "\n",
    "# Plot 3: Pclass\n",
    "axes[2].hist([live_df['Pclass'], death_df['Pclass']], stacked=True, density=False, edgecolor='black')\n",
    "axes[2].set_title('Survival and death of different classes')\n",
    "axes[2].set_ylabel('Number')\n",
    "axes[2].set_xlabel('Classes')\n",
    "axes[2].legend(['Survived', 'Not Survived'])\n",
    "axes[2].set_xticks(range(1, 4))\n",
    "axes[2].set_xticklabels(['1', '2', '3'])\n",
    "\n",
    "# Adjust the spacing between subplots\n",
    "plt.tight_layout()\n",
    "\n",
    "# Show the plot\n",
    "plt.show()\n"
   ]
  },
  {
   "cell_type": "markdown",
   "metadata": {},
   "source": [
    "We use scatterplot to investigate the relationship between passengerID and survival rate"
   ]
  },
  {
   "cell_type": "code",
   "execution_count": 209,
   "metadata": {},
   "outputs": [
    {
     "data": {
      "text/plain": [
       "446.0"
      ]
     },
     "execution_count": 209,
     "metadata": {},
     "output_type": "execute_result"
    }
   ],
   "source": [
    "\n",
    "# Create the scatter plot\n",
    "live_df['PassengerId'].mean()\n",
    "death_df['PassengerId'].mean()\n",
    "df['PassengerId'].mean()\n"
   ]
  },
  {
   "cell_type": "markdown",
   "metadata": {},
   "source": [
    "The mean value of passengerID of survivied is 444, and the mean value of passengerID of dead is 447.\n",
    "\n",
    "The mean value of passengerID of total passengers is 446.\n",
    "\n",
    "So it can be concluded that the ID has little impact on the survival rate."
   ]
  },
  {
   "cell_type": "code",
   "execution_count": 211,
   "metadata": {},
   "outputs": [
    {
     "name": "stderr",
     "output_type": "stream",
     "text": [
      "SettingWithCopyWarning: \n",
      "A value is trying to be set on a copy of a slice from a DataFrame.\n",
      "Try using .loc[row_indexer,col_indexer] = value instead\n",
      "\n",
      "See the caveats in the documentation: https://pandas.pydata.org/pandas-docs/stable/user_guide/indexing.html#returning-a-view-versus-a-copy\n",
      "SettingWithCopyWarning: \n",
      "A value is trying to be set on a copy of a slice from a DataFrame.\n",
      "Try using .loc[row_indexer,col_indexer] = value instead\n",
      "\n",
      "See the caveats in the documentation: https://pandas.pydata.org/pandas-docs/stable/user_guide/indexing.html#returning-a-view-versus-a-copy\n",
      "SettingWithCopyWarning: \n",
      "A value is trying to be set on a copy of a slice from a DataFrame.\n",
      "Try using .loc[row_indexer,col_indexer] = value instead\n",
      "\n",
      "See the caveats in the documentation: https://pandas.pydata.org/pandas-docs/stable/user_guide/indexing.html#returning-a-view-versus-a-copy\n",
      "SettingWithCopyWarning: \n",
      "A value is trying to be set on a copy of a slice from a DataFrame.\n",
      "Try using .loc[row_indexer,col_indexer] = value instead\n",
      "\n",
      "See the caveats in the documentation: https://pandas.pydata.org/pandas-docs/stable/user_guide/indexing.html#returning-a-view-versus-a-copy\n",
      "RuntimeWarning: invalid value encountered in subtract\n",
      "SettingWithCopyWarning: \n",
      "A value is trying to be set on a copy of a slice from a DataFrame.\n",
      "Try using .loc[row_indexer,col_indexer] = value instead\n",
      "\n",
      "See the caveats in the documentation: https://pandas.pydata.org/pandas-docs/stable/user_guide/indexing.html#returning-a-view-versus-a-copy\n",
      "SettingWithCopyWarning: \n",
      "A value is trying to be set on a copy of a slice from a DataFrame.\n",
      "Try using .loc[row_indexer,col_indexer] = value instead\n",
      "\n",
      "See the caveats in the documentation: https://pandas.pydata.org/pandas-docs/stable/user_guide/indexing.html#returning-a-view-versus-a-copy\n"
     ]
    },
    {
     "data": {
      "image/png": "[encoded data removed]",
      "text/plain": [
       "<Figure size 864x288 with 3 Axes>"
      ]
     },
     "metadata": {
      "needs_background": "light"
     },
     "output_type": "display_data"
    }
   ],
   "source": [
    "\n",
    "# Create a figure and subplots\n",
    "fig, axes = plt.subplots(1, 3, figsize=(12, 4))\n",
    "\n",
    "# Plot 1: Age Group Distribution\n",
    "filtered_live_df = live_df.dropna(subset=['Age'])\n",
    "filtered_death_df = death_df.dropna(subset=['Age'])\n",
    "\n",
    "bins = [0, 10, 20, 30, 40, 50, 60, 70, 80]\n",
    "labels = ['0-9', '10-19', '20-29', '30-39', '40-49', '50-59', '60-69', '70-80']\n",
    "\n",
    "# Segment people by age\n",
    "filtered_live_df['Age Group'] = pd.cut(filtered_live_df['Age'], bins=bins, labels=labels, right=False)\n",
    "filtered_death_df['Age Group'] = pd.cut(filtered_death_df['Age'], bins=bins, labels=labels, right=False)\n",
    "\n",
    "filtered_live_df['Age Group'] = filtered_live_df['Age Group'].astype(str)\n",
    "filtered_death_df['Age Group'] = filtered_death_df['Age Group'].astype(str)\n",
    "\n",
    "\n",
    "\n",
    "axes[0].hist([filtered_live_df['Age Group'], filtered_death_df['Age Group']], stacked=True, density=False, edgecolor='black')\n",
    "axes[0].set_xlabel('Age Group')\n",
    "axes[0].set_ylabel('Count')\n",
    "axes[0].set_title('Age Group Distribution')\n",
    "axes[0].legend(['Survived', 'Not Survived'])\n",
    "\n",
    "# Plot 2: Fare Group Distribution\n",
    "filtered_live_df = live_df.dropna(subset=['Fare'])\n",
    "filtered_death_df = death_df.dropna(subset=['Fare'])\n",
    "\n",
    "bins = [0, 10, 20, 30, 40, 50, 60, 70, 80, 90, 100, 150, 200, 250, 300, 350, 400, 450, 500, float('inf')]\n",
    "labels = ['0-10', '10-20', '20-30', '30-40', '40-50', '50-60', '60-70', '70-80', '80-90', '90-100', '100-150', '150-200', '200-250', '250-300', '300-350', '350-400', '400-450', '450-500', '500+']\n",
    "\n",
    "axes[1].hist([filtered_live_df['Fare'], filtered_death_df['Fare']], bins=bins, stacked=True, density=False, edgecolor='black')\n",
    "axes[1].set_xlabel('Fare Group')\n",
    "axes[1].set_ylabel('Count')\n",
    "axes[1].set_title('Fare Group Distribution')\n",
    "axes[1].legend(['Survived', 'Not Survived'])\n",
    "\n",
    "# Plot 3: Cabin Survival Distribution\n",
    "filtered_live_df = live_df.dropna(subset=['Cabin'])\n",
    "filtered_death_df = death_df.dropna(subset=['Cabin'])\n",
    "\n",
    "filtered_live_df['Initial'] = filtered_live_df['Cabin'].apply(lambda x: x[0])\n",
    "filtered_death_df['Initial'] = filtered_death_df['Cabin'].apply(lambda x: x[0])\n",
    "\n",
    "axes[2].hist([filtered_live_df['Initial'], filtered_death_df['Initial']], stacked=True, density=False, edgecolor='black')\n",
    "axes[2].set_xlabel('Cabin')\n",
    "axes[2].set_ylabel('Count')\n",
    "axes[2].set_title('Cabin Survival Distribution')\n",
    "axes[2].legend(['Survived', 'Not Survived'])\n",
    "\n",
    "# Adjust the spacing between subplots\n",
    "plt.tight_layout()\n",
    "\n",
    "# Show the plot\n",
    "plt.show()\n"
   ]
  },
  {
   "cell_type": "code",
   "execution_count": 215,
   "metadata": {},
   "outputs": [
    {
     "data": {
      "image/png": "[encoded data removed]",
      "text/plain": [
       "<Figure size 864x288 with 2 Axes>"
      ]
     },
     "metadata": {
      "needs_background": "light"
     },
     "output_type": "display_data"
    }
   ],
   "source": [
    "\n",
    "# Create a figure and subplots\n",
    "fig, axes = plt.subplots(1, 2, figsize=(12, 4))\n",
    "\n",
    "# Plot 1: Number of Siblings / Spouses\n",
    "axes[0].hist([live_df['SibSp'], death_df['SibSp']], stacked=True, density=False, edgecolor='black')\n",
    "axes[0].set_title('Survival and death of different numbers of siblings / spouses')\n",
    "axes[0].set_ylabel('Number')\n",
    "axes[0].set_xlabel('Number of siblings / spouses')\n",
    "axes[0].legend(['Survived', 'Not Survived'])\n",
    "\n",
    "# Plot 2: Number of Parents / Children\n",
    "axes[1].hist([live_df['Parch'], death_df['Parch']], stacked=True, density=False, edgecolor='black')\n",
    "axes[1].set_title('Survival and death of different numbers of parents / children')\n",
    "axes[1].set_ylabel('Number')\n",
    "axes[1].set_xlabel('Number of parents / children')\n",
    "axes[1].legend(['Survived', 'Not Survived'])\n",
    "\n",
    "# Adjust the spacing between subplots\n",
    "plt.subplots_adjust(wspace=0.4, hspace=0.4)\n",
    "\n",
    "# Show the plot\n",
    "plt.show()\n",
    "\n"
   ]
  },
  {
   "cell_type": "code",
   "execution_count": null,
   "metadata": {},
   "outputs": [],
   "source": []
  }
 ],
 "metadata": {
  "kernelspec": {
   "display_name": "Python 3.9.12 ('base')",
   "language": "python",
   "name": "python3"
  },
  "language_info": {
   "codemirror_mode": {
    "name": "ipython",
    "version": 3
   },
   "file_extension": ".py",
   "mimetype": "text/x-python",
   "name": "python",
   "nbconvert_exporter": "python",
   "pygments_lexer": "ipython3",
   "version": "3.9.12"
  },
  "orig_nbformat": 4,
  "vscode": {
   "interpreter": {
    "hash": "f695691c7675195da2229e392149ef068beb920cff0b2fc3ea04696403466e06"
   }
  }
 },
 "nbformat": 4,
 "nbformat_minor": 2
}
